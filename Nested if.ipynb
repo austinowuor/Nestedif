{
 "cells": [
  {
   "cell_type": "code",
   "execution_count": null,
   "metadata": {},
   "outputs": [],
   "source": [
    "#nested if statements\n",
    "if x < y:\n",
    "    print('x is less than y')\n",
    "else:\n",
    "    if x > y:\n",
    "        print('x is greater than y')\n",
    "    else:\n",
    "        print('x and y are equal')\n",
    "#this is the same as the following code\n",
    "if x < y:\n",
    "    print('x is less than y')\n",
    "elif x > y:\n",
    "    print('x is greater than y')\n",
    "else:\n",
    "    print('x and y are equal')\n",
    "#the elif statement is an abbreviation of else if\n",
    "#it allows us to check for multiple expressions\n",
    "#the elif statement is only executed if the preceding if statement is false\n",
    "#the else statement is executed if all preceding if and elif statements are false\n",
    "#the else statement is optional\n",
    "#you can have as many elif statements as you want\n",
    "#you can have only one else statement\n",
    "\n"
   ]
  }
 ],
 "metadata": {
  "language_info": {
   "name": "python"
  }
 },
 "nbformat": 4,
 "nbformat_minor": 2
}
